{
 "cells": [
  {
   "cell_type": "markdown",
   "metadata": {},
   "source": [
    "#  Variable Types - Numbers\n",
    "\n",
    "In the last class we saw how to assign values to variables using the <code>=</code> symbol. We also learnt what a valid variable name is. \n",
    "\n",
    "In this lesson we'll look at two of the different types of value which can be assigned to a variable; <code>integers</code> and <code>floats</code>. We'll also see how the different mathematical operators work.\n",
    "\n",
    "Python supports three different types of number; integer, float and complex. We won't concern ourselves with complex numbers in this course.\n",
    "\n",
    "### Integers\n",
    "\n",
    "An integer is a whole number, without a decimal point. We can use the <code>type()</code> function to see what type a variable is:"
   ]
  },
  {
   "cell_type": "code",
   "execution_count": null,
   "metadata": {
    "collapsed": false
   },
   "outputs": [],
   "source": [
    "integer1 = 10\n",
    "\n",
    "print(type(integer1))"
   ]
  },
  {
   "cell_type": "markdown",
   "metadata": {},
   "source": [
    "### Floats\n",
    "\n",
    "A floating point number is a number with a decimal point:"
   ]
  },
  {
   "cell_type": "code",
   "execution_count": null,
   "metadata": {
    "collapsed": false
   },
   "outputs": [],
   "source": [
    "float1 = 0.5\n",
    "\n",
    "print(type(float1))"
   ]
  },
  {
   "cell_type": "markdown",
   "metadata": {},
   "source": [
    "You can convert integers to floats, and vice versa.\n",
    "\n",
    "Here, I'll convert an integer to a float using the <code>int()</code> function:"
   ]
  },
  {
   "cell_type": "code",
   "execution_count": null,
   "metadata": {
    "collapsed": false
   },
   "outputs": [],
   "source": [
    "integer2 = int(2.1)\n",
    "\n",
    "print(integer2)"
   ]
  },
  {
   "cell_type": "markdown",
   "metadata": {},
   "source": [
    "It looks like the <code>int()</code> function rounded down; what happens when the first decimal number is greater than 5?"
   ]
  },
  {
   "cell_type": "code",
   "execution_count": null,
   "metadata": {
    "collapsed": false
   },
   "outputs": [],
   "source": [
    "integer3 = int(2.9)\n",
    "\n",
    "print(integer3)"
   ]
  },
  {
   "cell_type": "markdown",
   "metadata": {},
   "source": [
    "So, we now know that the <code>int()</code> function chops off the decimal part of the number and doesn't round the part before the decimal.\n",
    "\n",
    "Let's convert an integer to a float and see what happens:"
   ]
  },
  {
   "cell_type": "code",
   "execution_count": null,
   "metadata": {
    "collapsed": false
   },
   "outputs": [],
   "source": [
    "float2 = float(5)\n",
    "\n",
    "print(float2)"
   ]
  },
  {
   "cell_type": "markdown",
   "metadata": {},
   "source": [
    "Using the <code>float()</code> function adds a decimal place to an integer.\n",
    "\n",
    "### Addition, Subtraction, Division, Multiplication... and a couple more\n",
    "\n",
    "We can do maths really easily in Python.\n",
    "\n",
    "#### Addition\n",
    "Here, I'm going to add two numbers together:"
   ]
  },
  {
   "cell_type": "code",
   "execution_count": null,
   "metadata": {
    "collapsed": false
   },
   "outputs": [],
   "source": [
    "subTotal = 5 + 5\n",
    "print(subTotal)"
   ]
  },
  {
   "cell_type": "markdown",
   "metadata": {},
   "source": [
    "I can also add a number to a variable:"
   ]
  },
  {
   "cell_type": "code",
   "execution_count": null,
   "metadata": {
    "collapsed": false
   },
   "outputs": [],
   "source": [
    "total = subTotal + 20\n",
    "print(total)"
   ]
  },
  {
   "cell_type": "markdown",
   "metadata": {},
   "source": [
    "#### Subtraction\n",
    "We can subtract numbers:"
   ]
  },
  {
   "cell_type": "code",
   "execution_count": null,
   "metadata": {
    "collapsed": false
   },
   "outputs": [],
   "source": [
    "stockToday  = 100 - 20\n",
    "print(stockToday)"
   ]
  },
  {
   "cell_type": "markdown",
   "metadata": {},
   "source": [
    "And we can also subtract numbers from variables:"
   ]
  },
  {
   "cell_type": "code",
   "execution_count": null,
   "metadata": {
    "collapsed": false
   },
   "outputs": [],
   "source": [
    "salesToday = 40\n",
    "\n",
    "stockTomorrow = stockToday - salesToday\n",
    "\n",
    "print(stockTomorrow)"
   ]
  },
  {
   "cell_type": "markdown",
   "metadata": {},
   "source": [
    "#### Multiplication\n",
    "We can do multiplication:"
   ]
  },
  {
   "cell_type": "code",
   "execution_count": null,
   "metadata": {
    "collapsed": false
   },
   "outputs": [],
   "source": [
    "avgLenOfWord = 9\n",
    "\n",
    "avgLenOfSentence = 12\n",
    "\n",
    "avgLettersInASentence =  avgLenOfWord * avgLenOfSentence\n",
    "\n",
    "print(avgLettersInASentence)"
   ]
  },
  {
   "cell_type": "markdown",
   "metadata": {},
   "source": [
    "#### Division\n",
    "And we can do division:\n",
    "\n",
    "(division always results in a floating point number)"
   ]
  },
  {
   "cell_type": "code",
   "execution_count": null,
   "metadata": {
    "collapsed": false
   },
   "outputs": [],
   "source": [
    "amountOfSpaghetti = 1000\n",
    "\n",
    "numberOfPeople = 10\n",
    "\n",
    "spaghettiPerPerson = amountOfSpaghetti / numberOfPeople\n",
    "\n",
    "print(spaghettiPerPerson)"
   ]
  },
  {
   "cell_type": "markdown",
   "metadata": {},
   "source": [
    "#### Modulus\n",
    "We can also get the remainder of a number when it is divided by another number:"
   ]
  },
  {
   "cell_type": "code",
   "execution_count": null,
   "metadata": {
    "collapsed": false
   },
   "outputs": [],
   "source": [
    "remainder = 10 % 3\n",
    "\n",
    "print(remainder)"
   ]
  },
  {
   "cell_type": "markdown",
   "metadata": {},
   "source": [
    "#### Exponents\n",
    "We can raise a number by a power:"
   ]
  },
  {
   "cell_type": "code",
   "execution_count": null,
   "metadata": {
    "collapsed": false
   },
   "outputs": [],
   "source": [
    "startingRabbits = 2\n",
    "\n",
    "numberOfDays = 3\n",
    "\n",
    "finalRabbits = startingRabbits ** numberOfDays\n",
    "\n",
    "print(finalRabbits)\n"
   ]
  },
  {
   "cell_type": "markdown",
   "metadata": {},
   "source": [
    "#### Floor division\n",
    "\n",
    "We can remove the decimal points when a division is not exact:"
   ]
  },
  {
   "cell_type": "code",
   "execution_count": null,
   "metadata": {
    "collapsed": false
   },
   "outputs": [],
   "source": [
    "print(11 / 3)"
   ]
  },
  {
   "cell_type": "code",
   "execution_count": null,
   "metadata": {
    "collapsed": false
   },
   "outputs": [],
   "source": [
    "print(11 // 3)"
   ]
  },
  {
   "cell_type": "markdown",
   "metadata": {},
   "source": [
    "## What have we learnt in this lesson?\n",
    "In this lesson we've learnt about integers and floats in Python, and how to convert between the two. Finally, we learnt how to use mathematical operators to manipulate numbers and variables."
   ]
  },
  {
   "cell_type": "markdown",
   "metadata": {},
   "source": [
    "If you have any questions, please ask in the comments section or email <a href=\"mailto:me@richard-muir.com\">me@richard-muir.com</a>"
   ]
  }
 ],
 "metadata": {
  "kernelspec": {
   "display_name": "Python 3",
   "language": "python",
   "name": "python3"
  },
  "language_info": {
   "codemirror_mode": {
    "name": "ipython",
    "version": 3
   },
   "file_extension": ".py",
   "mimetype": "text/x-python",
   "name": "python",
   "nbconvert_exporter": "python",
   "pygments_lexer": "ipython3",
   "version": "3.4.5"
  }
 },
 "nbformat": 4,
 "nbformat_minor": 0
}
